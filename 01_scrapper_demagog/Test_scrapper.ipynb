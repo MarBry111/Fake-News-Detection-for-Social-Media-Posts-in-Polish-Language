{
 "cells": [
  {
   "cell_type": "code",
   "execution_count": 69,
   "id": "1041ae77",
   "metadata": {},
   "outputs": [],
   "source": [
    "from bs4 import BeautifulSoup\n",
    "import requests\n",
    "\n",
    "import time\n",
    "import numpy as np\n",
    "import pandas as pd \n",
    "\n",
    "from tqdm import tqdm"
   ]
  },
  {
   "cell_type": "markdown",
   "id": "47e4e4ed",
   "metadata": {},
   "source": [
    "## Demagog"
   ]
  },
  {
   "cell_type": "code",
   "execution_count": 56,
   "id": "6e4aa604",
   "metadata": {},
   "outputs": [],
   "source": [
    "demagog_statements_url = 'https://demagog.org.pl/wypowiedzi/page/'\n",
    "page=requests.get(f'{demagog_statements_url}1')"
   ]
  },
  {
   "cell_type": "code",
   "execution_count": 57,
   "id": "087d8f6e",
   "metadata": {},
   "outputs": [],
   "source": [
    "soup = BeautifulSoup(page.content, 'html.parser')"
   ]
  },
  {
   "cell_type": "code",
   "execution_count": 58,
   "id": "49184a37",
   "metadata": {},
   "outputs": [
    {
     "data": {
      "text/plain": [
       "82"
      ]
     },
     "execution_count": 58,
     "metadata": {},
     "output_type": "execute_result"
    }
   ],
   "source": [
    "n_pages = int(soup.findAll(\"a\", class_=\"page-numbers\")[1].text)\n",
    "n_pages"
   ]
  },
  {
   "cell_type": "code",
   "execution_count": 65,
   "id": "a7f9c4f5",
   "metadata": {},
   "outputs": [
    {
     "name": "stderr",
     "output_type": "stream",
     "text": [
      "page 1:  25%|████████▊                          | 15/60 [00:58<02:56,  3.93s/it]\n"
     ]
    },
    {
     "ename": "KeyboardInterrupt",
     "evalue": "",
     "output_type": "error",
     "traceback": [
      "\u001b[0;31m---------------------------------------------------------------------------\u001b[0m",
      "\u001b[0;31mKeyboardInterrupt\u001b[0m                         Traceback (most recent call last)",
      "\u001b[0;32m/tmp/ipykernel_4105/901213185.py\u001b[0m in \u001b[0;36m<module>\u001b[0;34m\u001b[0m\n\u001b[1;32m     23\u001b[0m         \u001b[0massestment_list\u001b[0m\u001b[0;34m.\u001b[0m\u001b[0mappend\u001b[0m\u001b[0;34m(\u001b[0m\u001b[0massestment\u001b[0m\u001b[0;34m)\u001b[0m\u001b[0;34m\u001b[0m\u001b[0;34m\u001b[0m\u001b[0m\n\u001b[1;32m     24\u001b[0m \u001b[0;34m\u001b[0m\u001b[0m\n\u001b[0;32m---> 25\u001b[0;31m         \u001b[0mtime\u001b[0m\u001b[0;34m.\u001b[0m\u001b[0msleep\u001b[0m\u001b[0;34m(\u001b[0m\u001b[0;36m1\u001b[0m\u001b[0;34m+\u001b[0m\u001b[0mnp\u001b[0m\u001b[0;34m.\u001b[0m\u001b[0mrandom\u001b[0m\u001b[0;34m.\u001b[0m\u001b[0mrandint\u001b[0m\u001b[0;34m(\u001b[0m\u001b[0;36m5\u001b[0m\u001b[0;34m)\u001b[0m\u001b[0;34m/\u001b[0m\u001b[0;36m5\u001b[0m\u001b[0;34m)\u001b[0m\u001b[0;34m\u001b[0m\u001b[0;34m\u001b[0m\u001b[0m\n\u001b[0m\u001b[1;32m     26\u001b[0m \u001b[0;34m\u001b[0m\u001b[0m\n\u001b[1;32m     27\u001b[0m     \u001b[0;32mbreak\u001b[0m\u001b[0;34m\u001b[0m\u001b[0;34m\u001b[0m\u001b[0m\n",
      "\u001b[0;31mKeyboardInterrupt\u001b[0m: "
     ]
    }
   ],
   "source": [
    "txt_list = []\n",
    "assestment_list = []\n",
    "for i in range(1,n_pages+1):\n",
    "    \n",
    "    page=requests.get(f'{demagog_statements_url}{i}')\n",
    "    soup = BeautifulSoup(page.content, 'html.parser')\n",
    "    \n",
    "    for s in tqdm(soup.findAll(\"h2\", class_=\"mt-0 mb-1 title-archive\"), \n",
    "                  desc=f'page {i} of {n_pages}', \n",
    "                  position=0\n",
    "                 ):\n",
    "        statement_url = s.find('a').get(\"href\")\n",
    "\n",
    "        page_statement = requests.get(statement_url)\n",
    "        soup_statement = BeautifulSoup(page_statement.content, 'html.parser')\n",
    "\n",
    "        txt = soup_statement.find('blockquote', class_='hyphenate target-blank twitter-tweet') \\\n",
    "                .find('p').text\n",
    "\n",
    "        assestment = soup_statement.find_all('p', {\"class\": \"ocena\"})[0].text\n",
    "        \n",
    "        txt_list.append(txt)\n",
    "        assestment_list.append(assestment)\n",
    "        \n",
    "        time.sleep(1+np.random.randint(5)/5)\n",
    "    \n",
    "    break"
   ]
  },
  {
   "cell_type": "code",
   "execution_count": 72,
   "id": "1e395a07",
   "metadata": {},
   "outputs": [],
   "source": [
    "df_out = pd.DataFrame({'assestment' : assestment_list, 'text' : txt_list})\n",
    "df_out.to_csv('../datasets/demagog.csv', sep=';', index=False)"
   ]
  },
  {
   "cell_type": "markdown",
   "id": "f917a29e",
   "metadata": {},
   "source": [
    "## Oko.press"
   ]
  },
  {
   "cell_type": "code",
   "execution_count": 82,
   "id": "6691d0fc",
   "metadata": {},
   "outputs": [],
   "source": [
    "# https://stackoverflow.com/questions/48477688/scrape-page-with-load-more-results-button"
   ]
  },
  {
   "cell_type": "code",
   "execution_count": 81,
   "id": "a881138e",
   "metadata": {},
   "outputs": [],
   "source": [
    "oko_press_statements_url = 'https://oko.press/kategoria/prawda-czy-falsz/strona/'\n",
    "page=requests.get(f'{oko_press_statements_url}{1}')"
   ]
  },
  {
   "cell_type": "code",
   "execution_count": 78,
   "id": "d7903a41",
   "metadata": {},
   "outputs": [],
   "source": [
    "soup = BeautifulSoup(page.content, 'html.parser')"
   ]
  },
  {
   "cell_type": "code",
   "execution_count": 79,
   "id": "a48f7248",
   "metadata": {},
   "outputs": [
    {
     "data": {
      "text/plain": [
       "[<a class=\"text__quotation\" href=\"https://oko.press/wypowiedzi/morawiecki-konstytucja-3-maja-wykluczala-niewole/\" title=\"Mateusz Morawiecki\">\n",
       " <p>Zresztą, polska Konstytucja była nawet dalej idąca niż ta zza oceanu, bo wykluczała niewolnictwo.</p>\n",
       " </a>,\n",
       " <a class=\"text__quotation\" href=\"https://oko.press/wypowiedzi/morawiecki-o-ruskim-gazie/\" title=\"Mateusz Morawiecki\">\n",
       " <p>Od dzisiaj, kiedy Rosja przestała przesyłać swój gaz do Polski, przestaliśmy w jakikolwiek sposób od Rosji zależeć.</p>\n",
       " </a>,\n",
       " <a class=\"text__quotation\" href=\"https://oko.press/wypowiedzi/ilu-mamy-uchodzcow-w-polsce/\" title=\"Michał Dworczyk\">\n",
       " <p>Możemy powiedzieć, że mamy między 1,5 a 2 mln wojennych uchodźców w Polsce</p>\n",
       " </a>]"
      ]
     },
     "execution_count": 79,
     "metadata": {},
     "output_type": "execute_result"
    }
   ],
   "source": [
    "soup.find_all('a', {'class' : 'text__quotation'})"
   ]
  },
  {
   "cell_type": "code",
   "execution_count": null,
   "id": "a0ab3a13",
   "metadata": {},
   "outputs": [],
   "source": []
  }
 ],
 "metadata": {
  "kernelspec": {
   "display_name": "Python 3 (ipykernel)",
   "language": "python",
   "name": "python3"
  },
  "language_info": {
   "codemirror_mode": {
    "name": "ipython",
    "version": 3
   },
   "file_extension": ".py",
   "mimetype": "text/x-python",
   "name": "python",
   "nbconvert_exporter": "python",
   "pygments_lexer": "ipython3",
   "version": "3.7.13"
  }
 },
 "nbformat": 4,
 "nbformat_minor": 5
}
