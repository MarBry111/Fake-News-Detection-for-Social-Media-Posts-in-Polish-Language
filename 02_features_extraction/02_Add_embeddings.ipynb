{
 "cells": [
  {
   "cell_type": "code",
   "execution_count": 70,
   "id": "b82ca7be",
   "metadata": {},
   "outputs": [],
   "source": [
    "import pandas as pd\n",
    "import numpy as np\n",
    "import spacy\n",
    "\n",
    "import gensim\n",
    "from gensim.models.doc2vec import Doc2Vec, TaggedDocument\n",
    "from gensim.test.test_doc2vec import ConcatenatedDoc2Vec\n",
    "\n",
    "import morfeusz2\n",
    "\n",
    "from tqdm import tqdm\n",
    "tqdm.pandas()\n",
    "\n",
    "from sentence_transformers import SentenceTransformer\n",
    "import umap"
   ]
  },
  {
   "cell_type": "code",
   "execution_count": 64,
   "id": "12590b7a",
   "metadata": {},
   "outputs": [],
   "source": [
    "from sklearn.model_selection import train_test_split\n",
    "from sklearn import utils"
   ]
  },
  {
   "cell_type": "code",
   "execution_count": 65,
   "id": "a3df055a",
   "metadata": {},
   "outputs": [],
   "source": [
    "# nlp_core = spacy.load(\"pl_core_news_lg\") # nlp\n",
    "nlp_pl = spacy.load('pl_spacy_model') # nlp37"
   ]
  },
  {
   "cell_type": "code",
   "execution_count": 66,
   "id": "396f7db7",
   "metadata": {},
   "outputs": [
    {
     "name": "stderr",
     "output_type": "stream",
     "text": [
      "WARNING:root:No sentence-transformers model found with name /home/marek/.cache/torch/sentence_transformers/dkleczek_bert-base-polish-uncased-v1. Creating a new one with MEAN pooling.\n",
      "Some weights of the model checkpoint at /home/marek/.cache/torch/sentence_transformers/dkleczek_bert-base-polish-uncased-v1 were not used when initializing BertModel: ['cls.predictions.transform.LayerNorm.bias', 'cls.predictions.transform.dense.bias', 'cls.seq_relationship.weight', 'cls.predictions.decoder.weight', 'cls.seq_relationship.bias', 'cls.predictions.decoder.bias', 'cls.predictions.transform.LayerNorm.weight', 'cls.predictions.transform.dense.weight', 'cls.predictions.bias']\n",
      "- This IS expected if you are initializing BertModel from the checkpoint of a model trained on another task or with another architecture (e.g. initializing a BertForSequenceClassification model from a BertForPreTraining model).\n",
      "- This IS NOT expected if you are initializing BertModel from the checkpoint of a model that you expect to be exactly identical (initializing a BertForSequenceClassification model from a BertForSequenceClassification model).\n"
     ]
    }
   ],
   "source": [
    "model = SentenceTransformer('dkleczek/bert-base-polish-uncased-v1')"
   ]
  },
  {
   "cell_type": "markdown",
   "id": "5e53c32f",
   "metadata": {},
   "source": [
    "## Load data"
   ]
  },
  {
   "cell_type": "code",
   "execution_count": 5,
   "id": "1adf5c73",
   "metadata": {},
   "outputs": [],
   "source": [
    "# https://medium.com/wisio/a-gentle-introduction-to-doc2vec-db3e8c0cce5e"
   ]
  },
  {
   "cell_type": "code",
   "execution_count": 6,
   "id": "ecd4314f",
   "metadata": {},
   "outputs": [],
   "source": [
    "df = pd.read_csv('../datasets/scrapped/demagog_features.csv', sep=';')"
   ]
  },
  {
   "cell_type": "code",
   "execution_count": 7,
   "id": "d27fd56d",
   "metadata": {},
   "outputs": [
    {
     "data": {
      "text/html": [
       "<div>\n",
       "<style scoped>\n",
       "    .dataframe tbody tr th:only-of-type {\n",
       "        vertical-align: middle;\n",
       "    }\n",
       "\n",
       "    .dataframe tbody tr th {\n",
       "        vertical-align: top;\n",
       "    }\n",
       "\n",
       "    .dataframe thead th {\n",
       "        text-align: right;\n",
       "    }\n",
       "</style>\n",
       "<table border=\"1\" class=\"dataframe\">\n",
       "  <thead>\n",
       "    <tr style=\"text-align: right;\">\n",
       "      <th></th>\n",
       "      <th>assestment</th>\n",
       "      <th>text</th>\n",
       "      <th>text_clean</th>\n",
       "      <th>sentiment_all</th>\n",
       "      <th>sentiment_avg</th>\n",
       "      <th>uniq_words</th>\n",
       "      <th>uniq_lemm</th>\n",
       "      <th>err</th>\n",
       "      <th>net</th>\n",
       "      <th>ADJ</th>\n",
       "      <th>ADV</th>\n",
       "      <th>NOUN</th>\n",
       "    </tr>\n",
       "  </thead>\n",
       "  <tbody>\n",
       "    <tr>\n",
       "      <th>0</th>\n",
       "      <td>Nieweryfikowalne</td>\n",
       "      <td>Generalnie, jak pokazują dane i szacunki, to n...</td>\n",
       "      <td>Generalnie, jak pokazują dane i szacunki, to ...</td>\n",
       "      <td>-0.008995</td>\n",
       "      <td>-0.083364</td>\n",
       "      <td>33.0</td>\n",
       "      <td>29.0</td>\n",
       "      <td>3.0</td>\n",
       "      <td>1.0</td>\n",
       "      <td>0.212121</td>\n",
       "      <td>0.060606</td>\n",
       "      <td>0.212121</td>\n",
       "    </tr>\n",
       "    <tr>\n",
       "      <th>1</th>\n",
       "      <td>Prawda</td>\n",
       "      <td>Według ich (ukraińskich – przyp. Demagog) dany...</td>\n",
       "      <td>Według ich ukraińskich danych w Polsce, czy n...</td>\n",
       "      <td>-0.008995</td>\n",
       "      <td>-0.008995</td>\n",
       "      <td>18.0</td>\n",
       "      <td>17.0</td>\n",
       "      <td>0.0</td>\n",
       "      <td>3.0</td>\n",
       "      <td>0.055556</td>\n",
       "      <td>0.055556</td>\n",
       "      <td>0.166667</td>\n",
       "    </tr>\n",
       "    <tr>\n",
       "      <th>2</th>\n",
       "      <td>Fałsz</td>\n",
       "      <td>Po pierwsze, jest 51,25 proc. ludzi tylko zasz...</td>\n",
       "      <td>Po pierwsze, jest 51,25 proc. ludzi tylko zasz...</td>\n",
       "      <td>-0.008995</td>\n",
       "      <td>-0.045055</td>\n",
       "      <td>24.0</td>\n",
       "      <td>24.0</td>\n",
       "      <td>0.0</td>\n",
       "      <td>1.0</td>\n",
       "      <td>0.125000</td>\n",
       "      <td>0.125000</td>\n",
       "      <td>0.083333</td>\n",
       "    </tr>\n",
       "    <tr>\n",
       "      <th>3</th>\n",
       "      <td>Prawda</td>\n",
       "      <td>Po pierwsze, system bankowy w Polsce, no, ma s...</td>\n",
       "      <td>Po pierwsze, system bankowy w Polsce, no, ma s...</td>\n",
       "      <td>0.026141</td>\n",
       "      <td>-0.081037</td>\n",
       "      <td>19.0</td>\n",
       "      <td>19.0</td>\n",
       "      <td>1.0</td>\n",
       "      <td>1.0</td>\n",
       "      <td>0.157895</td>\n",
       "      <td>0.000000</td>\n",
       "      <td>0.263158</td>\n",
       "    </tr>\n",
       "    <tr>\n",
       "      <th>4</th>\n",
       "      <td>Fałsz</td>\n",
       "      <td>Magazyny gazu mamy pełne tylko w 60%, bo w lis...</td>\n",
       "      <td>Magazyny gazu mamy pełne tylko w 60%, bo w lis...</td>\n",
       "      <td>-0.024012</td>\n",
       "      <td>-0.024012</td>\n",
       "      <td>23.0</td>\n",
       "      <td>23.0</td>\n",
       "      <td>2.0</td>\n",
       "      <td>2.0</td>\n",
       "      <td>0.086957</td>\n",
       "      <td>0.000000</td>\n",
       "      <td>0.173913</td>\n",
       "    </tr>\n",
       "  </tbody>\n",
       "</table>\n",
       "</div>"
      ],
      "text/plain": [
       "         assestment                                               text  \\\n",
       "0  Nieweryfikowalne  Generalnie, jak pokazują dane i szacunki, to n...   \n",
       "1            Prawda  Według ich (ukraińskich – przyp. Demagog) dany...   \n",
       "2             Fałsz  Po pierwsze, jest 51,25 proc. ludzi tylko zasz...   \n",
       "3            Prawda  Po pierwsze, system bankowy w Polsce, no, ma s...   \n",
       "4             Fałsz  Magazyny gazu mamy pełne tylko w 60%, bo w lis...   \n",
       "\n",
       "                                          text_clean  sentiment_all  \\\n",
       "0  Generalnie, jak pokazują dane i szacunki, to ...      -0.008995   \n",
       "1  Według ich ukraińskich danych w Polsce, czy n...      -0.008995   \n",
       "2  Po pierwsze, jest 51,25 proc. ludzi tylko zasz...      -0.008995   \n",
       "3  Po pierwsze, system bankowy w Polsce, no, ma s...       0.026141   \n",
       "4  Magazyny gazu mamy pełne tylko w 60%, bo w lis...      -0.024012   \n",
       "\n",
       "   sentiment_avg  uniq_words  uniq_lemm  err  net       ADJ       ADV  \\\n",
       "0      -0.083364        33.0       29.0  3.0  1.0  0.212121  0.060606   \n",
       "1      -0.008995        18.0       17.0  0.0  3.0  0.055556  0.055556   \n",
       "2      -0.045055        24.0       24.0  0.0  1.0  0.125000  0.125000   \n",
       "3      -0.081037        19.0       19.0  1.0  1.0  0.157895  0.000000   \n",
       "4      -0.024012        23.0       23.0  2.0  2.0  0.086957  0.000000   \n",
       "\n",
       "       NOUN  \n",
       "0  0.212121  \n",
       "1  0.166667  \n",
       "2  0.083333  \n",
       "3  0.263158  \n",
       "4  0.173913  "
      ]
     },
     "execution_count": 7,
     "metadata": {},
     "output_type": "execute_result"
    }
   ],
   "source": [
    "df.head()"
   ]
  },
  {
   "cell_type": "markdown",
   "id": "3539a34e",
   "metadata": {},
   "source": [
    "## Create tokenizer"
   ]
  },
  {
   "cell_type": "code",
   "execution_count": 13,
   "id": "096389b7",
   "metadata": {},
   "outputs": [],
   "source": [
    "# stopwords = nlp_core.Defaults.stop_words\n",
    "stopwords = nlp_pl.Defaults.stop_words"
   ]
  },
  {
   "cell_type": "code",
   "execution_count": 14,
   "id": "9cdc917b",
   "metadata": {},
   "outputs": [],
   "source": [
    "def tokenize(txt):\n",
    "    # doc = nlp_core(txt)\n",
    "    doc = nlp_pl(txt)\n",
    "    \n",
    "    words = [\n",
    "        token.lemma_.lower()\n",
    "        for token in doc \n",
    "        if \n",
    "            not token.is_stop \n",
    "            and not token.is_punct \n",
    "            and not token.is_stop \n",
    "            and token.text != ' '\n",
    "            and token.lemma_ not in stopwords]\n",
    "    \n",
    "    return words"
   ]
  },
  {
   "cell_type": "code",
   "execution_count": 15,
   "id": "d9545b52",
   "metadata": {},
   "outputs": [
    {
     "name": "stderr",
     "output_type": "stream",
     "text": [
      "100%|███████████████████████████████████████| 4891/4891 [05:20<00:00, 15.28it/s]\n"
     ]
    }
   ],
   "source": [
    "df['tokens'] = df['text_clean'].progress_apply(lambda x: tokenize(x))"
   ]
  },
  {
   "cell_type": "markdown",
   "id": "8d08fd5d",
   "metadata": {},
   "source": [
    "## Create embeddings - BERT"
   ]
  },
  {
   "cell_type": "code",
   "execution_count": 67,
   "id": "44b86c69",
   "metadata": {},
   "outputs": [
    {
     "name": "stderr",
     "output_type": "stream",
     "text": [
      "Batches: 100%|████████████████████████████████| 153/153 [02:02<00:00,  1.25it/s]\n"
     ]
    }
   ],
   "source": [
    "embeddings =\n",
    "model.encode(df['text_clean'].values, show_progress_bar=True)"
   ]
  },
  {
   "cell_type": "code",
   "execution_count": 69,
   "id": "145ba0be",
   "metadata": {},
   "outputs": [
    {
     "data": {
      "text/plain": [
       "(4891, 768)"
      ]
     },
     "execution_count": 69,
     "metadata": {},
     "output_type": "execute_result"
    }
   ],
   "source": [
    "embeddings.shape"
   ]
  },
  {
   "cell_type": "code",
   "execution_count": 71,
   "id": "c8827acb",
   "metadata": {},
   "outputs": [
    {
     "name": "stdout",
     "output_type": "stream",
     "text": [
      "huggingface/tokenizers: The current process just got forked, after parallelism has already been used. Disabling parallelism to avoid deadlocks...\n",
      "To disable this warning, you can either:\n",
      "\t- Avoid using `tokenizers` before the fork if possible\n",
      "\t- Explicitly set the environment variable TOKENIZERS_PARALLELISM=(true | false)\n"
     ]
    }
   ],
   "source": [
    "umap_embeddings = umap.UMAP(n_neighbors=15, \n",
    "                            n_components=5, \n",
    "                            metric='cosine').fit_transform(embeddings)"
   ]
  },
  {
   "cell_type": "code",
   "execution_count": 74,
   "id": "919875c5",
   "metadata": {},
   "outputs": [],
   "source": [
    "df[['e0', 'e1', 'e2', 'e3', 'e4']] = 0\n",
    "\n",
    "df[['e0', 'e1', 'e2', 'e3', 'e4']] = umap_embeddings\n",
    "\n",
    "df_learn = df[\n",
    "    ['assestment', 'text_clean', \n",
    "     'sentiment_all', 'sentiment_avg',\n",
    "     'uniq_words', 'uniq_lemm', 'err', 'net', 'ADJ', 'ADV', 'NOUN',\n",
    "     'e0', 'e1', 'e2', 'e3', 'e4']\n",
    "]\n",
    "\n",
    "df_learn.to_csv('../datasets/scrapped/demagog_features_emb_umap.csv', sep=';', index=False)"
   ]
  },
  {
   "cell_type": "markdown",
   "id": "8686bc26",
   "metadata": {},
   "source": [
    "## Create documents"
   ]
  },
  {
   "cell_type": "code",
   "execution_count": 30,
   "id": "3a3cb8e1",
   "metadata": {},
   "outputs": [],
   "source": [
    "documents = [TaggedDocument(doc, [str(i)]) for i, doc in enumerate(df['tokens'].values)]"
   ]
  },
  {
   "cell_type": "code",
   "execution_count": 31,
   "id": "d5a4b430",
   "metadata": {},
   "outputs": [],
   "source": [
    "# test/train split"
   ]
  },
  {
   "cell_type": "code",
   "execution_count": 32,
   "id": "4eb4fc6b",
   "metadata": {},
   "outputs": [],
   "source": [
    "X_train, X_test, y_train, y_test = train_test_split(\n",
    "    documents, df['assestment'].values, test_size=0.33, random_state=0)"
   ]
  },
  {
   "cell_type": "code",
   "execution_count": 33,
   "id": "34b2b7d0",
   "metadata": {},
   "outputs": [
    {
     "data": {
      "text/plain": [
       "3276"
      ]
     },
     "execution_count": 33,
     "metadata": {},
     "output_type": "execute_result"
    }
   ],
   "source": [
    "len(X_train)"
   ]
  },
  {
   "cell_type": "code",
   "execution_count": 34,
   "id": "ed3ef1b2",
   "metadata": {},
   "outputs": [
    {
     "data": {
      "text/plain": [
       "1615"
      ]
     },
     "execution_count": 34,
     "metadata": {},
     "output_type": "execute_result"
    }
   ],
   "source": [
    "len(X_test)"
   ]
  },
  {
   "cell_type": "code",
   "execution_count": 35,
   "id": "b74ce98c",
   "metadata": {},
   "outputs": [
    {
     "data": {
      "text/plain": [
       "4891"
      ]
     },
     "execution_count": 35,
     "metadata": {},
     "output_type": "execute_result"
    }
   ],
   "source": [
    "len(documents)"
   ]
  },
  {
   "cell_type": "markdown",
   "id": "6957df49",
   "metadata": {},
   "source": [
    "## Distributed Bag of Words (DBOW)"
   ]
  },
  {
   "cell_type": "code",
   "execution_count": 37,
   "id": "1adb9746",
   "metadata": {},
   "outputs": [],
   "source": [
    "# https://towardsdatascience.com/multi-class-text-classification-with-doc2vec-logistic-regression-9da9947b43f4"
   ]
  },
  {
   "cell_type": "code",
   "execution_count": 38,
   "id": "1da7558e",
   "metadata": {},
   "outputs": [],
   "source": [
    "vec_size = 5"
   ]
  },
  {
   "cell_type": "code",
   "execution_count": 39,
   "id": "c98abf2f",
   "metadata": {},
   "outputs": [
    {
     "name": "stderr",
     "output_type": "stream",
     "text": [
      "100%|██████████████████████████████████| 3276/3276 [00:00<00:00, 1327331.91it/s]\n"
     ]
    }
   ],
   "source": [
    "model_dbow = Doc2Vec(dm=0, vector_size=vec_size, negative=5, hs=0, min_count=2, sample = 0, workers=-1)\n",
    "model_dbow.build_vocab([x for x in tqdm(X_train)])"
   ]
  },
  {
   "cell_type": "code",
   "execution_count": 40,
   "id": "50f39b15",
   "metadata": {},
   "outputs": [
    {
     "data": {
      "text/plain": [
       "(3276, 5)"
      ]
     },
     "execution_count": 40,
     "metadata": {},
     "output_type": "execute_result"
    }
   ],
   "source": [
    "model_dbow.dv.vectors.shape"
   ]
  },
  {
   "cell_type": "code",
   "execution_count": 41,
   "id": "316c8ea7",
   "metadata": {},
   "outputs": [
    {
     "name": "stderr",
     "output_type": "stream",
     "text": [
      "100%|██████████████████████████████████████████| 30/30 [00:00<00:00, 167.88it/s]\n"
     ]
    }
   ],
   "source": [
    "for epoch in tqdm(range(30)):\n",
    "    model_dbow.train(utils.shuffle([x for x in X_train]), total_examples=len(X_train), epochs=1)\n",
    "    model_dbow.alpha -= 0.002\n",
    "    model_dbow.min_alpha = model_dbow.alpha"
   ]
  },
  {
   "cell_type": "code",
   "execution_count": 42,
   "id": "0454f92f",
   "metadata": {},
   "outputs": [
    {
     "data": {
      "text/plain": [
       "(3276, 5)"
      ]
     },
     "execution_count": 42,
     "metadata": {},
     "output_type": "execute_result"
    }
   ],
   "source": [
    "model_dbow.dv.vectors.shape"
   ]
  },
  {
   "cell_type": "code",
   "execution_count": 43,
   "id": "ff584c19",
   "metadata": {},
   "outputs": [
    {
     "data": {
      "text/plain": [
       "array([ 0.04901308,  0.02188243, -0.06371115,  0.073976  ,  0.08626302],\n",
       "      dtype=float32)"
      ]
     },
     "execution_count": 43,
     "metadata": {},
     "output_type": "execute_result"
    }
   ],
   "source": [
    "model_dbow.infer_vector(X_train[0][0], epochs=20)"
   ]
  },
  {
   "cell_type": "markdown",
   "id": "94418bcd",
   "metadata": {},
   "source": [
    "## Distributed Memory (DM)"
   ]
  },
  {
   "cell_type": "code",
   "execution_count": 44,
   "id": "88d33073",
   "metadata": {},
   "outputs": [
    {
     "name": "stderr",
     "output_type": "stream",
     "text": [
      "100%|██████████████████████████████████| 3276/3276 [00:00<00:00, 2455860.57it/s]\n"
     ]
    }
   ],
   "source": [
    "model_dmm = Doc2Vec(dm=1, dm_mean=1, vector_size=vec_size, window=10, negative=5, min_count=1, workers=5, alpha=0.065, min_alpha=0.065)\n",
    "model_dmm.build_vocab([x for x in tqdm(X_train)])"
   ]
  },
  {
   "cell_type": "code",
   "execution_count": 45,
   "id": "b112fabc",
   "metadata": {},
   "outputs": [
    {
     "name": "stderr",
     "output_type": "stream",
     "text": [
      "100%|███████████████████████████████████████████| 30/30 [00:33<00:00,  1.11s/it]\n"
     ]
    }
   ],
   "source": [
    "for epoch in tqdm(range(30)):\n",
    "    model_dmm.train(utils.shuffle([x for x in X_train]), total_examples=len(X_train), epochs=1)\n",
    "    model_dmm.alpha -= 0.002\n",
    "    model_dmm.min_alpha = model_dmm.alpha"
   ]
  },
  {
   "cell_type": "code",
   "execution_count": 46,
   "id": "b50dbf31",
   "metadata": {},
   "outputs": [
    {
     "data": {
      "text/plain": [
       "array([0.03888087, 0.11844292, 0.09204848, 0.09457888, 0.04699333],\n",
       "      dtype=float32)"
      ]
     },
     "execution_count": 46,
     "metadata": {},
     "output_type": "execute_result"
    }
   ],
   "source": [
    "model_dmm.infer_vector(X_train[0][0], epochs=20)"
   ]
  },
  {
   "cell_type": "markdown",
   "id": "b88a4a1f",
   "metadata": {},
   "source": [
    "## Model Pairing"
   ]
  },
  {
   "cell_type": "code",
   "execution_count": 47,
   "id": "24dca453",
   "metadata": {},
   "outputs": [],
   "source": [
    "new_model = ConcatenatedDoc2Vec([model_dbow, model_dmm])"
   ]
  },
  {
   "cell_type": "code",
   "execution_count": 48,
   "id": "8e3f1bfd",
   "metadata": {},
   "outputs": [],
   "source": [
    "#model.train(X_train, total_examples=model.corpus_count, epochs=model.epochs)"
   ]
  },
  {
   "cell_type": "code",
   "execution_count": 49,
   "id": "5393bb28",
   "metadata": {},
   "outputs": [
    {
     "name": "stdout",
     "output_type": "stream",
     "text": [
      "TaggedDocument<['eurostat', 'umieścił', 'polskę', 'drugi', 'miejsce', 'ue', 'jeśli', 'chodzić', 'przyjmowanie', 'uchodźców', 'paść', 'liczba', '400', 'tys.', 'osób', 'oczywiście', 'są', 'lud', 'ukraina'], ['2525']>\n"
     ]
    }
   ],
   "source": [
    "model = model_dbow\n",
    "\n",
    "doc_id = 36\n",
    "# inferred_vector = model_loaded.infer_vector(['酒精', '用', '啥', '稀释'])\n",
    "inferred_vector = model.infer_vector(X_train[doc_id].words)\n",
    "sims = model.dv.most_similar([inferred_vector], topn=len(model.dv))\n",
    "\n",
    "print(X_train[36])"
   ]
  },
  {
   "cell_type": "code",
   "execution_count": 58,
   "id": "004cf376",
   "metadata": {},
   "outputs": [],
   "source": [
    "# model_dbow.wv.most_similar('covid')"
   ]
  },
  {
   "cell_type": "markdown",
   "id": "f4917b1a",
   "metadata": {},
   "source": [
    "## Apply embeddings"
   ]
  },
  {
   "cell_type": "code",
   "execution_count": 59,
   "id": "b83f40ef",
   "metadata": {},
   "outputs": [],
   "source": [
    "df[[ 'e'+str(i) for i in range(vec_size*2) ]] = [new_model.infer_vector(d[0]).tolist() for d in documents]"
   ]
  },
  {
   "cell_type": "code",
   "execution_count": 60,
   "id": "404278c2",
   "metadata": {},
   "outputs": [],
   "source": [
    "df_learn = df[\n",
    "    ['assestment', 'text_clean', \n",
    "     'sentiment_all', 'sentiment_avg',\n",
    "     'uniq_words', 'uniq_lemm', 'err', 'net', 'ADJ', 'ADV', 'NOUN',\n",
    "     'e0', 'e1', 'e2', 'e3', 'e4',\n",
    "     'e5', 'e6', 'e7', 'e8', 'e9']\n",
    "]"
   ]
  },
  {
   "cell_type": "code",
   "execution_count": 61,
   "id": "885c1126",
   "metadata": {},
   "outputs": [],
   "source": [
    "df_learn.to_csv('../datasets/scrapped/demagog_features_emb_pl.csv', sep=';', index=False)"
   ]
  },
  {
   "cell_type": "code",
   "execution_count": null,
   "id": "ae133baa",
   "metadata": {},
   "outputs": [],
   "source": []
  }
 ],
 "metadata": {
  "kernelspec": {
   "display_name": "Python 3 (ipykernel)",
   "language": "python",
   "name": "python3"
  },
  "language_info": {
   "codemirror_mode": {
    "name": "ipython",
    "version": 3
   },
   "file_extension": ".py",
   "mimetype": "text/x-python",
   "name": "python",
   "nbconvert_exporter": "python",
   "pygments_lexer": "ipython3",
   "version": "3.7.12"
  }
 },
 "nbformat": 4,
 "nbformat_minor": 5
}
