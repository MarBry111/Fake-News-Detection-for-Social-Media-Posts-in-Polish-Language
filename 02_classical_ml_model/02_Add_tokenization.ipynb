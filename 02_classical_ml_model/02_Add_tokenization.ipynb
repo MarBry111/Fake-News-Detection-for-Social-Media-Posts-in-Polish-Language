{
 "cells": [
  {
   "cell_type": "code",
   "execution_count": 16,
   "id": "b82ca7be",
   "metadata": {},
   "outputs": [],
   "source": [
    "import pandas as pd\n",
    "import numpy as np\n",
    "import spacy\n",
    "\n",
    "import gensim\n",
    "from gensim.models.doc2vec import Doc2Vec, TaggedDocument\n",
    "from gensim.test.test_doc2vec import ConcatenatedDoc2Vec\n",
    "\n",
    "import morfeusz2\n",
    "\n",
    "import matplotlib.pyplot as plt\n",
    "from tqdm import tqdm\n",
    "tqdm.pandas()\n",
    "\n",
    "from sentence_transformers import SentenceTransformer\n",
    "import umap\n",
    "import hdbscan\n",
    "\n",
    "import numpy as np\n",
    "from sklearn.feature_extraction.text import CountVectorizer\n",
    "\n",
    "import re"
   ]
  },
  {
   "cell_type": "code",
   "execution_count": 17,
   "id": "12590b7a",
   "metadata": {},
   "outputs": [],
   "source": [
    "from sklearn.model_selection import train_test_split\n",
    "from sklearn import utils"
   ]
  },
  {
   "cell_type": "code",
   "execution_count": 18,
   "id": "978a110a",
   "metadata": {},
   "outputs": [],
   "source": [
    "nlp_pl = spacy.load(\"pl_core_news_lg\") # nlp\n",
    "# nlp_pl = spacy.load('pl_spacy_model') # nlp37"
   ]
  },
  {
   "cell_type": "code",
   "execution_count": 19,
   "id": "f3d9c8cf",
   "metadata": {},
   "outputs": [],
   "source": [
    "# model = SentenceTransformer('dkleczek/bert-base-polish-uncased-v1')"
   ]
  },
  {
   "cell_type": "markdown",
   "id": "5e53c32f",
   "metadata": {},
   "source": [
    "## Load data"
   ]
  },
  {
   "cell_type": "code",
   "execution_count": 20,
   "id": "1adf5c73",
   "metadata": {},
   "outputs": [],
   "source": [
    "# https://medium.com/wisio/a-gentle-introduction-to-doc2vec-db3e8c0cce5e"
   ]
  },
  {
   "cell_type": "code",
   "execution_count": 21,
   "id": "ecd4314f",
   "metadata": {},
   "outputs": [
    {
     "data": {
      "text/html": [
       "<div>\n",
       "<style scoped>\n",
       "    .dataframe tbody tr th:only-of-type {\n",
       "        vertical-align: middle;\n",
       "    }\n",
       "\n",
       "    .dataframe tbody tr th {\n",
       "        vertical-align: top;\n",
       "    }\n",
       "\n",
       "    .dataframe thead th {\n",
       "        text-align: right;\n",
       "    }\n",
       "</style>\n",
       "<table border=\"1\" class=\"dataframe\">\n",
       "  <thead>\n",
       "    <tr style=\"text-align: right;\">\n",
       "      <th></th>\n",
       "      <th>assestment</th>\n",
       "      <th>text</th>\n",
       "      <th>author</th>\n",
       "      <th>source</th>\n",
       "      <th>text_clean</th>\n",
       "      <th>sentiment_all</th>\n",
       "      <th>sentiment_avg</th>\n",
       "      <th>uniq_words</th>\n",
       "      <th>uniq_lemm</th>\n",
       "      <th>err</th>\n",
       "      <th>net</th>\n",
       "      <th>ADJ</th>\n",
       "      <th>ADV</th>\n",
       "      <th>NOUN</th>\n",
       "    </tr>\n",
       "  </thead>\n",
       "  <tbody>\n",
       "    <tr>\n",
       "      <th>0</th>\n",
       "      <td>Częściowy fałsz</td>\n",
       "      <td>W ubiegłym roku 257 osób zginęło w wypadkach...</td>\n",
       "      <td>Paulina Matysiak</td>\n",
       "      <td>Poranna rozmowa w RMF FM, 18.05.2022</td>\n",
       "      <td>W ubiegłym roku 257 osób zginęło w wypadkach...</td>\n",
       "      <td>-0.230477</td>\n",
       "      <td>-0.207067</td>\n",
       "      <td>12.0</td>\n",
       "      <td>11.0</td>\n",
       "      <td>2.0</td>\n",
       "      <td>0.0</td>\n",
       "      <td>0.250000</td>\n",
       "      <td>0.000000</td>\n",
       "      <td>0.416667</td>\n",
       "    </tr>\n",
       "    <tr>\n",
       "      <th>1</th>\n",
       "      <td>Prawda</td>\n",
       "      <td>(...) udzielenie bankowi centralnemu Ukrainy t...</td>\n",
       "      <td>Piotr Ćwik</td>\n",
       "      <td>54. posiedzenie Sejmu RP, 12.05.2022</td>\n",
       "      <td>udzielenie bankowi centralnemu Ukrainy tzw. s...</td>\n",
       "      <td>-0.008995</td>\n",
       "      <td>-0.008995</td>\n",
       "      <td>29.0</td>\n",
       "      <td>28.0</td>\n",
       "      <td>2.0</td>\n",
       "      <td>3.0</td>\n",
       "      <td>0.275862</td>\n",
       "      <td>0.000000</td>\n",
       "      <td>0.310345</td>\n",
       "    </tr>\n",
       "    <tr>\n",
       "      <th>2</th>\n",
       "      <td>Prawda</td>\n",
       "      <td>Polska już w grudniu (2021 roku – przyp. Dema...</td>\n",
       "      <td>Marcin Kierwiński</td>\n",
       "      <td>Śniadanie Rymanowskiego w Polsat News i Inter...</td>\n",
       "      <td>Polska już w grudniu 2021 roku miała trzecią...</td>\n",
       "      <td>-0.008995</td>\n",
       "      <td>-0.008995</td>\n",
       "      <td>17.0</td>\n",
       "      <td>16.0</td>\n",
       "      <td>1.0</td>\n",
       "      <td>4.0</td>\n",
       "      <td>0.117647</td>\n",
       "      <td>0.000000</td>\n",
       "      <td>0.470588</td>\n",
       "    </tr>\n",
       "    <tr>\n",
       "      <th>3</th>\n",
       "      <td>Prawda</td>\n",
       "      <td>(Bartosz Cichocki – przyp. Demagog) był jedyny...</td>\n",
       "      <td>Arkady Rzegocki</td>\n",
       "      <td>Kwadrans polityczny, 26.04.2022</td>\n",
       "      <td>Bartosz Cichocki był jedynym ambasadorem z kra...</td>\n",
       "      <td>0.282137</td>\n",
       "      <td>0.139427</td>\n",
       "      <td>20.0</td>\n",
       "      <td>20.0</td>\n",
       "      <td>2.0</td>\n",
       "      <td>3.0</td>\n",
       "      <td>0.250000</td>\n",
       "      <td>0.050000</td>\n",
       "      <td>0.250000</td>\n",
       "    </tr>\n",
       "    <tr>\n",
       "      <th>4</th>\n",
       "      <td>Fałsz</td>\n",
       "      <td>Będąc (prezes NBP Adam Glapiński – przyp. D...</td>\n",
       "      <td>Dariusz Rosati</td>\n",
       "      <td>Posiedzenie Sejmu, 12.05.2022</td>\n",
       "      <td>Będąc prezes NBP Adam Glapiński przez 6 lat...</td>\n",
       "      <td>-0.008995</td>\n",
       "      <td>-0.008995</td>\n",
       "      <td>37.0</td>\n",
       "      <td>37.0</td>\n",
       "      <td>4.0</td>\n",
       "      <td>4.0</td>\n",
       "      <td>0.108108</td>\n",
       "      <td>0.054054</td>\n",
       "      <td>0.324324</td>\n",
       "    </tr>\n",
       "  </tbody>\n",
       "</table>\n",
       "</div>"
      ],
      "text/plain": [
       "          assestment                                               text  \\\n",
       "0  Częściowy fałsz  W ubiegłym roku 257 osób zginęło w wypadkach...   \n",
       "1             Prawda  (...) udzielenie bankowi centralnemu Ukrainy t...   \n",
       "2             Prawda  Polska już w grudniu (2021 roku – przyp. Dema...   \n",
       "3             Prawda  (Bartosz Cichocki – przyp. Demagog) był jedyny...   \n",
       "4              Fałsz  Będąc (prezes NBP Adam Glapiński – przyp. D...   \n",
       "\n",
       "               author                                             source  \\\n",
       "0    Paulina Matysiak               Poranna rozmowa w RMF FM, 18.05.2022   \n",
       "1         Piotr Ćwik               54. posiedzenie Sejmu RP, 12.05.2022   \n",
       "2  Marcin Kierwiński  Śniadanie Rymanowskiego w Polsat News i Inter...   \n",
       "3     Arkady Rzegocki                    Kwadrans polityczny, 26.04.2022   \n",
       "4      Dariusz Rosati                      Posiedzenie Sejmu, 12.05.2022   \n",
       "\n",
       "                                          text_clean  sentiment_all  \\\n",
       "0  W ubiegłym roku 257 osób zginęło w wypadkach...      -0.230477   \n",
       "1   udzielenie bankowi centralnemu Ukrainy tzw. s...      -0.008995   \n",
       "2  Polska już w grudniu 2021 roku miała trzecią...      -0.008995   \n",
       "3  Bartosz Cichocki był jedynym ambasadorem z kra...       0.282137   \n",
       "4  Będąc prezes NBP Adam Glapiński przez 6 lat...      -0.008995   \n",
       "\n",
       "   sentiment_avg  uniq_words  uniq_lemm  err  net       ADJ       ADV  \\\n",
       "0      -0.207067        12.0       11.0  2.0  0.0  0.250000  0.000000   \n",
       "1      -0.008995        29.0       28.0  2.0  3.0  0.275862  0.000000   \n",
       "2      -0.008995        17.0       16.0  1.0  4.0  0.117647  0.000000   \n",
       "3       0.139427        20.0       20.0  2.0  3.0  0.250000  0.050000   \n",
       "4      -0.008995        37.0       37.0  4.0  4.0  0.108108  0.054054   \n",
       "\n",
       "       NOUN  \n",
       "0  0.416667  \n",
       "1  0.310345  \n",
       "2  0.470588  \n",
       "3  0.250000  \n",
       "4  0.324324  "
      ]
     },
     "execution_count": 21,
     "metadata": {},
     "output_type": "execute_result"
    }
   ],
   "source": [
    "df_dem = pd.read_csv('../datasets/scrapped/demagog_features.csv', sep=';')\n",
    "df_dem.head()"
   ]
  },
  {
   "cell_type": "code",
   "execution_count": 22,
   "id": "fac8a496",
   "metadata": {},
   "outputs": [
    {
     "data": {
      "text/html": [
       "<div>\n",
       "<style scoped>\n",
       "    .dataframe tbody tr th:only-of-type {\n",
       "        vertical-align: middle;\n",
       "    }\n",
       "\n",
       "    .dataframe tbody tr th {\n",
       "        vertical-align: top;\n",
       "    }\n",
       "\n",
       "    .dataframe thead th {\n",
       "        text-align: right;\n",
       "    }\n",
       "</style>\n",
       "<table border=\"1\" class=\"dataframe\">\n",
       "  <thead>\n",
       "    <tr style=\"text-align: right;\">\n",
       "      <th></th>\n",
       "      <th>sub_napis</th>\n",
       "      <th>sub_stan_zegara</th>\n",
       "      <th>Autor Wypowiedzi</th>\n",
       "      <th>text_clean</th>\n",
       "      <th>sentiment_all</th>\n",
       "      <th>sentiment_avg</th>\n",
       "      <th>uniq_words</th>\n",
       "      <th>uniq_lemm</th>\n",
       "      <th>err</th>\n",
       "      <th>net</th>\n",
       "      <th>ADJ</th>\n",
       "      <th>ADV</th>\n",
       "      <th>NOUN</th>\n",
       "    </tr>\n",
       "  </thead>\n",
       "  <tbody>\n",
       "    <tr>\n",
       "      <th>0</th>\n",
       "      <td>Rządy Tuska to również doprowadzenie do wyzysk...</td>\n",
       "      <td>falsz</td>\n",
       "      <td>Stanisław Piotrowicz</td>\n",
       "      <td>Rządy Tuska to również doprowadzenie do wyz...</td>\n",
       "      <td>-0.008995</td>\n",
       "      <td>-0.195652</td>\n",
       "      <td>28.0</td>\n",
       "      <td>27.0</td>\n",
       "      <td>4.0</td>\n",
       "      <td>5.0</td>\n",
       "      <td>0.071429</td>\n",
       "      <td>0.071429</td>\n",
       "      <td>0.285714</td>\n",
       "    </tr>\n",
       "    <tr>\n",
       "      <th>1</th>\n",
       "      <td>Absurdy i marnotrawstwo pokazuje najlepiej pro...</td>\n",
       "      <td>blisko_prawdy</td>\n",
       "      <td>Antoni Macierewicz</td>\n",
       "      <td>Absurdy i marnotrawstwo pokazuje najlepiej pro...</td>\n",
       "      <td>-0.188746</td>\n",
       "      <td>-0.188746</td>\n",
       "      <td>26.0</td>\n",
       "      <td>25.0</td>\n",
       "      <td>2.0</td>\n",
       "      <td>1.0</td>\n",
       "      <td>0.038462</td>\n",
       "      <td>0.038462</td>\n",
       "      <td>0.423077</td>\n",
       "    </tr>\n",
       "    <tr>\n",
       "      <th>2</th>\n",
       "      <td>Przez 15 lat finansowaliście budowę korwety Ga...</td>\n",
       "      <td>blisko_prawdy</td>\n",
       "      <td>Antoni Macierewicz</td>\n",
       "      <td>Przez 15 lat finansowaliście budowę korwety ...</td>\n",
       "      <td>-0.201911</td>\n",
       "      <td>-0.159423</td>\n",
       "      <td>35.0</td>\n",
       "      <td>35.0</td>\n",
       "      <td>3.0</td>\n",
       "      <td>3.0</td>\n",
       "      <td>0.085714</td>\n",
       "      <td>0.028571</td>\n",
       "      <td>0.371429</td>\n",
       "    </tr>\n",
       "    <tr>\n",
       "      <th>3</th>\n",
       "      <td>Dzisiaj ponad 65 procent długu państwowego jes...</td>\n",
       "      <td>falsz</td>\n",
       "      <td>Mateusz Morawiecki</td>\n",
       "      <td>Dzisiaj ponad 65 procent długu państwowego je...</td>\n",
       "      <td>-0.008995</td>\n",
       "      <td>-0.008995</td>\n",
       "      <td>23.0</td>\n",
       "      <td>23.0</td>\n",
       "      <td>2.0</td>\n",
       "      <td>0.0</td>\n",
       "      <td>0.173913</td>\n",
       "      <td>0.043478</td>\n",
       "      <td>0.260870</td>\n",
       "    </tr>\n",
       "    <tr>\n",
       "      <th>4</th>\n",
       "      <td>Polska jest gotowa przyjąć każdego uchodźcę, k...</td>\n",
       "      <td>falsz</td>\n",
       "      <td>Andrzej Duda</td>\n",
       "      <td>Polska jest gotowa przyjąć każdego uchodźc...</td>\n",
       "      <td>-0.007072</td>\n",
       "      <td>-0.007072</td>\n",
       "      <td>34.0</td>\n",
       "      <td>34.0</td>\n",
       "      <td>4.0</td>\n",
       "      <td>3.0</td>\n",
       "      <td>0.147059</td>\n",
       "      <td>0.058824</td>\n",
       "      <td>0.235294</td>\n",
       "    </tr>\n",
       "  </tbody>\n",
       "</table>\n",
       "</div>"
      ],
      "text/plain": [
       "                                           sub_napis sub_stan_zegara  \\\n",
       "0  Rządy Tuska to również doprowadzenie do wyzysk...           falsz   \n",
       "1  Absurdy i marnotrawstwo pokazuje najlepiej pro...   blisko_prawdy   \n",
       "2  Przez 15 lat finansowaliście budowę korwety Ga...   blisko_prawdy   \n",
       "3  Dzisiaj ponad 65 procent długu państwowego jes...           falsz   \n",
       "4  Polska jest gotowa przyjąć każdego uchodźcę, k...           falsz   \n",
       "\n",
       "       Autor Wypowiedzi                                         text_clean  \\\n",
       "0  Stanisław Piotrowicz  Rządy Tuska to również doprowadzenie do wyz...   \n",
       "1    Antoni Macierewicz  Absurdy i marnotrawstwo pokazuje najlepiej pro...   \n",
       "2    Antoni Macierewicz  Przez 15 lat finansowaliście budowę korwety ...   \n",
       "3    Mateusz Morawiecki  Dzisiaj ponad 65 procent długu państwowego je...   \n",
       "4          Andrzej Duda  Polska jest gotowa przyjąć każdego uchodźc...   \n",
       "\n",
       "   sentiment_all  sentiment_avg  uniq_words  uniq_lemm  err  net       ADJ  \\\n",
       "0      -0.008995      -0.195652        28.0       27.0  4.0  5.0  0.071429   \n",
       "1      -0.188746      -0.188746        26.0       25.0  2.0  1.0  0.038462   \n",
       "2      -0.201911      -0.159423        35.0       35.0  3.0  3.0  0.085714   \n",
       "3      -0.008995      -0.008995        23.0       23.0  2.0  0.0  0.173913   \n",
       "4      -0.007072      -0.007072        34.0       34.0  4.0  3.0  0.147059   \n",
       "\n",
       "        ADV      NOUN  \n",
       "0  0.071429  0.285714  \n",
       "1  0.038462  0.423077  \n",
       "2  0.028571  0.371429  \n",
       "3  0.043478  0.260870  \n",
       "4  0.058824  0.235294  "
      ]
     },
     "execution_count": 22,
     "metadata": {},
     "output_type": "execute_result"
    }
   ],
   "source": [
    "df_oko = pd.read_csv('../datasets/oko.press/okopress_features.csv', sep=';')\n",
    "df_oko.head()"
   ]
  },
  {
   "cell_type": "code",
   "execution_count": 23,
   "id": "4a208e58",
   "metadata": {},
   "outputs": [
    {
     "data": {
      "text/plain": [
       "(2869, 13)"
      ]
     },
     "execution_count": 23,
     "metadata": {},
     "output_type": "execute_result"
    }
   ],
   "source": [
    "df_oko.shape"
   ]
  },
  {
   "cell_type": "code",
   "execution_count": 24,
   "id": "d27fd56d",
   "metadata": {},
   "outputs": [],
   "source": [
    "df = pd.concat(\n",
    "    [\n",
    "        df_dem[['assestment', 'author', 'text_clean', 'sentiment_all', 'sentiment_avg', 'uniq_words', 'uniq_lemm', 'err', 'net', 'ADJ', 'ADV','NOUN']],\n",
    "        (df_oko[['sub_stan_zegara', 'Autor Wypowiedzi', 'text_clean', 'sentiment_all', 'sentiment_avg', 'uniq_words', 'uniq_lemm', 'err', 'net', 'ADJ', 'ADV','NOUN']]\n",
    "         .rename(columns={'sub_stan_zegara':'assestment', 'Autor Wypowiedzi':'author'}))\n",
    "    ],\n",
    "    ignore_index = True\n",
    ")"
   ]
  },
  {
   "cell_type": "markdown",
   "id": "3539a34e",
   "metadata": {},
   "source": [
    "## Create tokenizer"
   ]
  },
  {
   "cell_type": "code",
   "execution_count": 25,
   "id": "096389b7",
   "metadata": {},
   "outputs": [],
   "source": [
    "# stopwords = nlp_core.Defaults.stop_words\n",
    "stopwords = nlp_pl.Defaults.stop_words"
   ]
  },
  {
   "cell_type": "code",
   "execution_count": 104,
   "id": "9cdc917b",
   "metadata": {},
   "outputs": [],
   "source": [
    "def tokenize(txt):\n",
    "    txt = (txt.replace('\\n', ' ')\n",
    "           .replace('ą', 'ą')\n",
    "           .replace('ć', 'ć')\n",
    "           .replace('ę', 'ę')\n",
    "           .replace('ń', 'ń')\n",
    "           .replace('ó', 'ó')\n",
    "           .replace('ś', 'ś')\n",
    "           .replace('ź', 'ź')\n",
    "           .replace('ż', 'ż'))\n",
    "\n",
    "    doc = nlp_pl(txt)\n",
    "    \n",
    "    words = [\n",
    "        token.lemma_.lower()\n",
    "        for token in doc \n",
    "        if \n",
    "            not token.is_stop \n",
    "            and not token.is_punct \n",
    "            and not token.is_stop \n",
    "            and token.text != ' '\n",
    "            and token.lemma_ not in stopwords\n",
    "            and len(token.text) > 1 ]\n",
    "    \n",
    "    return words"
   ]
  },
  {
   "cell_type": "code",
   "execution_count": 105,
   "id": "d9545b52",
   "metadata": {},
   "outputs": [
    {
     "name": "stderr",
     "output_type": "stream",
     "text": [
      "100%|██████████████████████████████████████| 7786/7786 [01:16<00:00, 102.39it/s]\n"
     ]
    }
   ],
   "source": [
    "df['tokens'] = df['text_clean'].progress_apply(lambda x: tokenize(x))"
   ]
  },
  {
   "cell_type": "code",
   "execution_count": 106,
   "id": "11c9d4dd",
   "metadata": {},
   "outputs": [
    {
     "name": "stderr",
     "output_type": "stream",
     "text": [
      "100%|███████████████████████████████████| 7786/7786 [00:00<00:00, 614798.20it/s]\n"
     ]
    }
   ],
   "source": [
    "df['tokens_str'] = df['tokens'].progress_apply(\n",
    "    lambda x: ' '.join(x))"
   ]
  },
  {
   "cell_type": "code",
   "execution_count": 107,
   "id": "877454cb",
   "metadata": {},
   "outputs": [
    {
     "data": {
      "text/plain": [
       "Index(['assestment', 'author', 'text_clean', 'sentiment_all', 'sentiment_avg',\n",
       "       'uniq_words', 'uniq_lemm', 'err', 'net', 'ADJ', 'ADV', 'NOUN', 'tokens',\n",
       "       'tokens_str'],\n",
       "      dtype='object')"
      ]
     },
     "execution_count": 107,
     "metadata": {},
     "output_type": "execute_result"
    }
   ],
   "source": [
    "df.columns"
   ]
  },
  {
   "cell_type": "code",
   "execution_count": 108,
   "id": "ef3c7575",
   "metadata": {},
   "outputs": [],
   "source": [
    "df[\n",
    "    ['assestment', 'author', 'text_clean', \n",
    "     'sentiment_all', 'sentiment_avg', 'uniq_words', 'uniq_lemm', 'err', 'net', \n",
    "     'ADJ', 'ADV', 'NOUN', 'tokens_str']\n",
    "].to_csv('../datasets/ready2use/fake_news_features_tokens.csv', sep=';', index=False, encoding='utf8')"
   ]
  },
  {
   "cell_type": "code",
   "execution_count": 109,
   "id": "e56edb87",
   "metadata": {},
   "outputs": [
    {
     "data": {
      "text/plain": [
       "1"
      ]
     },
     "execution_count": 109,
     "metadata": {},
     "output_type": "execute_result"
    }
   ],
   "source": [
    "df['tokens'].str.join('|').str.get_dummies().max().max()"
   ]
  },
  {
   "cell_type": "code",
   "execution_count": null,
   "id": "c3bfac4b",
   "metadata": {},
   "outputs": [],
   "source": []
  },
  {
   "cell_type": "code",
   "execution_count": null,
   "id": "dfb89b44",
   "metadata": {},
   "outputs": [],
   "source": []
  }
 ],
 "metadata": {
  "kernelspec": {
   "display_name": "Python 3 (ipykernel)",
   "language": "python",
   "name": "python3"
  },
  "language_info": {
   "codemirror_mode": {
    "name": "ipython",
    "version": 3
   },
   "file_extension": ".py",
   "mimetype": "text/x-python",
   "name": "python",
   "nbconvert_exporter": "python",
   "pygments_lexer": "ipython3",
   "version": "3.9.12"
  }
 },
 "nbformat": 4,
 "nbformat_minor": 5
}
